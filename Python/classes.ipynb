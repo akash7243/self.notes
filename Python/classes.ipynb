{
 "cells": [
  {
   "cell_type": "markdown",
   "metadata": {},
   "source": [
    "# Python Classes and Objects\n",
    "\n",
    "Encountered these for the first time while going through Github code for some deep learning papers.\n",
    "\n",
    "Referred from \n",
    "\n",
    "https://docs.python.org/3.8/tutorial/classes.html ----> Read this! Python documentation is quite insightful.\n",
    "\n",
    "https://www.w3schools.com/python/python_classes.asp "
   ]
  },
  {
   "cell_type": "markdown",
   "metadata": {},
   "source": [
    "### Scopes and Namespaces\n",
    "\n",
    "Before moving to *classes*, taking a look at how scopes and namespaces work. Example 9.2.1 from https://docs.python.org/3.8/tutorial/classes.html\n",
    "\n",
    "Refer Section 9.2 for more insight."
   ]
  },
  {
   "cell_type": "code",
   "execution_count": 1,
   "metadata": {},
   "outputs": [
    {
     "name": "stdout",
     "output_type": "stream",
     "text": [
      "After local assignment: test spam\n",
      "After nonlocal assignment: nonlocal spam\n",
      "After global assignment: nonlocal spam\n",
      "In global scope: global spam\n"
     ]
    }
   ],
   "source": [
    "def scope_test():\n",
    "    def do_local():\n",
    "        spam = \"local spam\"\n",
    "\n",
    "    def do_nonlocal():\n",
    "        nonlocal spam\n",
    "        spam = \"nonlocal spam\"\n",
    "    \n",
    "    def do_global():\n",
    "        global spam\n",
    "        spam = \"global spam\"\n",
    "\n",
    "    spam = \"test spam\"\n",
    "    do_local()\n",
    "    print(\"After local assignment:\", spam)\n",
    "    do_nonlocal()\n",
    "    print(\"After nonlocal assignment:\", spam)\n",
    "    do_global()\n",
    "    print(\"After global assignment:\", spam)\n",
    "\n",
    "scope_test()\n",
    "print(\"In global scope:\", spam)"
   ]
  },
  {
   "cell_type": "markdown",
   "metadata": {},
   "source": [
    "Following observations are made:\n",
    "- `local` assignment in the `scope_test` module does not change the module's binding of the name *spam* because the function is used outside the scope of the module definition.\n",
    "- `nonlocal` assignment changes `scope_test`'s binding of *spam* because of the same reason as above, `scope_test` is used *nonlocally*.\n",
    "- `global` changes the module-level binding. Also, there was so no previous binding before the `global` assignment because the change actually happened *globally* not within the module. "
   ]
  },
  {
   "cell_type": "markdown",
   "metadata": {},
   "source": [
    "### Classes"
   ]
  },
  {
   "cell_type": "markdown",
   "metadata": {},
   "source": [
    "**Example on how to use a class and an object**\n",
    "\n",
    "In the code cell below, I create a class called `newclass` with the simplest form of class definition.\n",
    "\n",
    "Class objects support :\n",
    "1. Attribute references\n",
    "2. Instantiation"
   ]
  },
  {
   "cell_type": "code",
   "execution_count": 2,
   "metadata": {},
   "outputs": [
    {
     "name": "stdout",
     "output_type": "stream",
     "text": [
      "example string\n"
     ]
    }
   ],
   "source": [
    "class newclass:\n",
    "    prop1 = 'example string' # class variable shared by all instances\n",
    "\n",
    "# class instantiation uses function notation\n",
    "obj1 = newclass()\n",
    "print(obj1.prop1) #obj1.prop1 is an attribute reference"
   ]
  },
  {
   "cell_type": "markdown",
   "metadata": {},
   "source": [
    "#### `__init__()` Function and Object Methods\n",
    "\n",
    "Every class has a function called `__init__()` and is always executed when the class is being initiated. This function will help you to assign properties to the object that you create using the class.\n",
    "\n",
    "**Note**: The `self` parameter is a reference to the current instance of the class and is used to access variables that belongs to the class. However, it does not need to be named *self*, you can call it whatever you like. "
   ]
  },
  {
   "cell_type": "code",
   "execution_count": 3,
   "metadata": {},
   "outputs": [
    {
     "name": "stdout",
     "output_type": "stream",
     "text": [
      "Planetary\n",
      "Milky Way\n",
      "Hello, we are located in the Milky Way\n"
     ]
    }
   ],
   "source": [
    "# let's contact aliens :)\n",
    "\n",
    "class civilization:\n",
    "    def __init__(self, type, location):\n",
    "        self.type = type # instance variable unique to each instance\n",
    "        self.location = location # instance variable unique to each instance\n",
    "\n",
    "    # defining a 'message' method\n",
    "    # methods in objects are functions that belong to the object\n",
    "    def messagefunc(self):\n",
    "        print(\"Hello, we are located in the \" + self.location)\n",
    "\n",
    "# class instantiation or in other object creation from class\n",
    "earth = civilization(\"Planetary\", \"Milky Way\")\n",
    "\n",
    "print(earth.type)\n",
    "print(earth.location)\n",
    "\n",
    "'''\n",
    " calling a method messagefunc for object 'earth' created\n",
    " from the class 'civilization'\n",
    "'''\n",
    "earth.messagefunc()"
   ]
  },
  {
   "cell_type": "markdown",
   "metadata": {},
   "source": [
    "#### Manipulating object properties\n",
    "\n",
    "Some examples are shown below.\n"
   ]
  },
  {
   "cell_type": "code",
   "execution_count": 4,
   "metadata": {},
   "outputs": [
    {
     "name": "stdout",
     "output_type": "stream",
     "text": [
      "Inter-planetary\n"
     ]
    }
   ],
   "source": [
    "earth.type = \"Inter-planetary\" # modifying the type property of object earth\n",
    "print(earth.type)\n"
   ]
  },
  {
   "cell_type": "code",
   "execution_count": 5,
   "metadata": {},
   "outputs": [
    {
     "ename": "AttributeError",
     "evalue": "'civilization' object has no attribute 'type'",
     "output_type": "error",
     "traceback": [
      "\u001b[0;31m---------------------------------------------------------------------------\u001b[0m",
      "\u001b[0;31mAttributeError\u001b[0m                            Traceback (most recent call last)",
      "\u001b[0;32m/tmp/ipykernel_10206/3249577682.py\u001b[0m in \u001b[0;36m<module>\u001b[0;34m\u001b[0m\n\u001b[1;32m      1\u001b[0m \u001b[0;32mdel\u001b[0m \u001b[0mearth\u001b[0m\u001b[0;34m.\u001b[0m\u001b[0mtype\u001b[0m\u001b[0;34m\u001b[0m\u001b[0;34m\u001b[0m\u001b[0m\n\u001b[0;32m----> 2\u001b[0;31m \u001b[0mprint\u001b[0m\u001b[0;34m(\u001b[0m\u001b[0mearth\u001b[0m\u001b[0;34m.\u001b[0m\u001b[0mtype\u001b[0m\u001b[0;34m)\u001b[0m\u001b[0;34m\u001b[0m\u001b[0;34m\u001b[0m\u001b[0m\n\u001b[0m",
      "\u001b[0;31mAttributeError\u001b[0m: 'civilization' object has no attribute 'type'"
     ]
    }
   ],
   "source": [
    "del earth.type\n",
    "print(earth.type)"
   ]
  },
  {
   "cell_type": "markdown",
   "metadata": {},
   "source": [
    "Using the `del` keyword, we can remove any attribute we like as is evident from the error shown above. Now, let's delete an object. "
   ]
  },
  {
   "cell_type": "code",
   "execution_count": 6,
   "metadata": {},
   "outputs": [
    {
     "ename": "NameError",
     "evalue": "name 'earth' is not defined",
     "output_type": "error",
     "traceback": [
      "\u001b[0;31m---------------------------------------------------------------------------\u001b[0m",
      "\u001b[0;31mNameError\u001b[0m                                 Traceback (most recent call last)",
      "\u001b[0;32m/tmp/ipykernel_10206/3322355747.py\u001b[0m in \u001b[0;36m<module>\u001b[0;34m\u001b[0m\n\u001b[1;32m      1\u001b[0m \u001b[0;32mdel\u001b[0m \u001b[0mearth\u001b[0m \u001b[0;31m# oops!\u001b[0m\u001b[0;34m\u001b[0m\u001b[0;34m\u001b[0m\u001b[0m\n\u001b[0;32m----> 2\u001b[0;31m \u001b[0mprint\u001b[0m\u001b[0;34m(\u001b[0m\u001b[0mearth\u001b[0m\u001b[0;34m.\u001b[0m\u001b[0mlocation\u001b[0m\u001b[0;34m)\u001b[0m\u001b[0;34m\u001b[0m\u001b[0;34m\u001b[0m\u001b[0m\n\u001b[0m",
      "\u001b[0;31mNameError\u001b[0m: name 'earth' is not defined"
     ]
    }
   ],
   "source": [
    "del earth # oops!\n",
    "print(earth.location)"
   ]
  },
  {
   "cell_type": "markdown",
   "metadata": {},
   "source": [
    "As expected, `earth` does not exist anymore."
   ]
  },
  {
   "cell_type": "markdown",
   "metadata": {},
   "source": [
    "#### `pass` Statement\n",
    "\n",
    "Creating classes with no content without encountering errors (why though?)"
   ]
  },
  {
   "cell_type": "code",
   "execution_count": 7,
   "metadata": {},
   "outputs": [],
   "source": [
    "class mtclass:\n",
    "    pass"
   ]
  }
 ],
 "metadata": {
  "interpreter": {
   "hash": "916dbcbb3f70747c44a77c7bcd40155683ae19c65e1c03b4aa3499c5328201f1"
  },
  "kernelspec": {
   "display_name": "Python 3.8.10 64-bit",
   "language": "python",
   "name": "python3"
  },
  "language_info": {
   "codemirror_mode": {
    "name": "ipython",
    "version": 3
   },
   "file_extension": ".py",
   "mimetype": "text/x-python",
   "name": "python",
   "nbconvert_exporter": "python",
   "pygments_lexer": "ipython3",
   "version": "3.8.10"
  },
  "orig_nbformat": 4
 },
 "nbformat": 4,
 "nbformat_minor": 2
}
